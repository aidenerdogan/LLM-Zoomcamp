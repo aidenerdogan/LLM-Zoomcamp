{
 "cells": [
  {
   "cell_type": "markdown",
   "id": "b15efebc",
   "metadata": {},
   "source": [
    "## Q1. Running Elastic \n",
    "\n",
    "Run Elastic Search 8.17.6, and get the cluster information. If you run it on localhost, this is how you do it:\n",
    "\n",
    "```bash\n",
    "curl localhost:9200\n",
    "```\n",
    "\n",
    "What's the `version.build_hash` value?"
   ]
  },
  {
   "cell_type": "markdown",
   "id": "368c92af",
   "metadata": {},
   "source": [
    "## A1.\n",
    "The `version.build_hash` is \"42f05b9372a9a4a470db3b52817899b99a76ee73\"\n"
   ]
  },
  {
   "cell_type": "markdown",
   "id": "53a2f2e6",
   "metadata": {},
   "source": [
    "## Getting the data\n",
    "\n",
    "Now let's get the FAQ data. You can run this snippet:"
   ]
  },
  {
   "cell_type": "code",
   "execution_count": 10,
   "id": "20142776",
   "metadata": {},
   "outputs": [],
   "source": [
    "import requests\n",
    "\n",
    "docs_url = 'https://github.com/DataTalksClub/llm-zoomcamp/blob/main/01-intro/documents.json?raw=1'\n",
    "documents_raw = requests.get(docs_url).json()\n",
    "\n",
    "documents = []\n",
    "for course in documents_raw:\n",
    "    course_name = course['course']\n",
    "    for doc in course['documents']:\n",
    "        doc['course'] = course_name\n",
    "        documents.append(doc)\n"
   ]
  },
  {
   "cell_type": "code",
   "execution_count": 4,
   "id": "64a28a9f",
   "metadata": {},
   "outputs": [],
   "source": [
    "# documents\n",
    "# documents.sort(key=lambda x: x['course'])"
   ]
  },
  {
   "cell_type": "markdown",
   "id": "88c55a54",
   "metadata": {},
   "source": [
    "## Q2. Indexing the data\n",
    "\n",
    "Index the data in the same way as was shown in the course videos. Make the `course` field a keyword and the rest should be text. \n",
    "\n",
    "Don't forget to install the ElasticSearch client for Python:\n",
    "\n",
    "```bash\n",
    "pip install elasticsearch\n",
    "```\n",
    "\n",
    "Which function do you use for adding your data to elastic?\n"
   ]
  },
  {
   "cell_type": "code",
   "execution_count": 5,
   "id": "a9892010",
   "metadata": {},
   "outputs": [],
   "source": [
    "from  elasticsearch import Elasticsearch\n",
    "\n",
    "esc = Elasticsearch(\"http://localhost:9200\")"
   ]
  },
  {
   "cell_type": "code",
   "execution_count": 11,
   "id": "68a738d3",
   "metadata": {},
   "outputs": [
    {
     "name": "stderr",
     "output_type": "stream",
     "text": [
      "/tmp/ipykernel_55307/151206867.py:9: DeprecationWarning: The 'body' parameter is deprecated and will be removed in a future version. Instead use individual parameters.\n",
      "  es.indices.create(\n"
     ]
    }
   ],
   "source": [
    "from elasticsearch import Elasticsearch\n",
    "\n",
    "es = Elasticsearch(\"http://localhost:9200\")\n",
    "\n",
    "# Delete existing index\n",
    "es.indices.delete(index='zoomcamp_faq', ignore_unavailable=True)\n",
    "\n",
    "# Create index with mapping\n",
    "es.indices.create(\n",
    "    index='zoomcamp_faq',\n",
    "    body={\n",
    "        \"mappings\": {\n",
    "            \"properties\": {\n",
    "                \"course\": {\"type\": \"keyword\"},\n",
    "                \"question\": {\"type\": \"text\"},\n",
    "                \"text\": {\"type\": \"text\"}\n",
    "            }\n",
    "        }\n",
    "    }\n",
    ")\n",
    "\n",
    "# Index the data\n",
    "for i, doc in enumerate(documents):\n",
    "    es.index(index='zoomcamp_faq', id=i, document=doc)\n"
   ]
  },
  {
   "cell_type": "markdown",
   "id": "fdba7049",
   "metadata": {},
   "source": [
    "## A2.\n",
    "\n",
    "The function I used for adding the data into elasticsearch is \"index\"."
   ]
  },
  {
   "cell_type": "markdown",
   "id": "85e6dd8b",
   "metadata": {},
   "source": [
    "## Q3. Searching\n",
    "\n",
    "Now let's search in our index. \n",
    "\n",
    "We will execute a query \"How do execute a command on a Kubernetes pod?\". \n",
    "\n",
    "Use only `question` and `text` fields and give `question` a boost of 4, and use `\"type\": \"best_fields\"`.\n",
    "\n",
    "What's the score for the top ranking result?"
   ]
  },
  {
   "cell_type": "code",
   "execution_count": 12,
   "id": "aa846ced",
   "metadata": {},
   "outputs": [
    {
     "name": "stdout",
     "output_type": "stream",
     "text": [
      "44.50556\n"
     ]
    },
    {
     "name": "stderr",
     "output_type": "stream",
     "text": [
      "/tmp/ipykernel_55307/3232417081.py:11: DeprecationWarning: The 'body' parameter is deprecated and will be removed in a future version. Instead use individual parameters.\n",
      "  res = es.search(index=\"zoomcamp_faq\", body=query)\n"
     ]
    }
   ],
   "source": [
    "query = {\n",
    "    \"query\": {\n",
    "        \"multi_match\": {\n",
    "            \"query\": \"How do execute a command on a Kubernetes pod?\",\n",
    "            \"fields\": [\"question^4\", \"text\"],\n",
    "            \"type\": \"best_fields\"\n",
    "        }\n",
    "    }\n",
    "}\n",
    "\n",
    "res = es.search(index=\"zoomcamp_faq\", body=query)\n",
    "print(res[\"hits\"][\"hits\"][0][\"_score\"])\n"
   ]
  },
  {
   "cell_type": "markdown",
   "id": "33fb4ebe",
   "metadata": {},
   "source": [
    "## A3.\n",
    "\n",
    "Top ranking score is \"44.5\""
   ]
  },
  {
   "cell_type": "markdown",
   "id": "52d2757b",
   "metadata": {},
   "source": [
    "## Q4. Filtering\n",
    "\n",
    "Now ask a different question: \"How do copy a file to a Docker container?\".\n",
    "\n",
    "This time we are only interested in questions from `machine-learning-zoomcamp`.\n",
    "\n",
    "Return 3 results. What's the 3rd question returned by the search engine?"
   ]
  },
  {
   "cell_type": "code",
   "execution_count": 13,
   "id": "aa14f19d",
   "metadata": {},
   "outputs": [
    {
     "name": "stdout",
     "output_type": "stream",
     "text": [
      "How do I debug a docker container?\n",
      "How do I copy files from my local machine to docker container?\n",
      "How do I copy files from a different folder into docker container’s working directory?\n"
     ]
    },
    {
     "name": "stderr",
     "output_type": "stream",
     "text": [
      "/tmp/ipykernel_55307/3152046346.py:18: DeprecationWarning: The 'body' parameter is deprecated and will be removed in a future version. Instead use individual parameters.\n",
      "  res = es.search(index=\"zoomcamp_faq\", body=query, size=3)\n"
     ]
    }
   ],
   "source": [
    "query = {\n",
    "    \"query\": {\n",
    "        \"bool\": {\n",
    "            \"must\": {\n",
    "                \"multi_match\": {\n",
    "                    \"query\": \"How do copy a file to a Docker container?\",\n",
    "                    \"fields\": [\"question^4\", \"text\"],\n",
    "                    \"type\": \"best_fields\"\n",
    "                }\n",
    "            },\n",
    "            \"filter\": {\n",
    "                \"term\": {\"course\": \"machine-learning-zoomcamp\"}\n",
    "            }\n",
    "        }\n",
    "    }\n",
    "}\n",
    "\n",
    "res = es.search(index=\"zoomcamp_faq\", body=query, size=3)\n",
    "for hit in res['hits']['hits']:\n",
    "    print(hit['_source']['question'])\n"
   ]
  },
  {
   "cell_type": "markdown",
   "id": "2809ab06",
   "metadata": {},
   "source": [
    "## A4.\n",
    "\n",
    "3rd question is \"How do I copy files from a different folder into docker container’s working directory?\""
   ]
  },
  {
   "cell_type": "markdown",
   "id": "b3b4f64c",
   "metadata": {},
   "source": [
    "## Q5. Building a prompt\n",
    "\n",
    "Now we're ready to build a prompt to send to an LLM. \n",
    "\n",
    "Take the records returned from Elasticsearch in Q4 and use this template to build the context. Separate context entries by two linebreaks (`\\n\\n`)\n",
    "```python\n",
    "context_template = \"\"\"\n",
    "Q: {question}\n",
    "A: {text}\n",
    "\"\"\".strip()\n",
    "```\n",
    "\n",
    "Now use the context you just created along with the \"How do copy a file to a Docker container?\" question \n",
    "to construct a prompt using the template below:\n",
    "\n",
    "```\n",
    "prompt_template = \"\"\"\n",
    "You're a course teaching assistant. Answer the QUESTION based on the CONTEXT from the FAQ database.\n",
    "Use only the facts from the CONTEXT when answering the QUESTION.\n",
    "\n",
    "QUESTION: {question}\n",
    "\n",
    "CONTEXT:\n",
    "{context}\n",
    "\"\"\".strip()\n",
    "```\n",
    "\n",
    "What's the length of the resulting prompt? (use the `len` function)"
   ]
  },
  {
   "cell_type": "code",
   "execution_count": 14,
   "id": "2e8c4b1f",
   "metadata": {},
   "outputs": [
    {
     "name": "stdout",
     "output_type": "stream",
     "text": [
      "1446\n"
     ]
    }
   ],
   "source": [
    "context_template = \"\"\"\n",
    "Q: {question}\n",
    "A: {text}\n",
    "\"\"\".strip()\n",
    "\n",
    "context = \"\\n\\n\".join([\n",
    "    context_template.format(**hit['_source']) for hit in res['hits']['hits']\n",
    "])\n",
    "\n",
    "question = \"How do copy a file to a Docker container?\"\n",
    "\n",
    "prompt_template = \"\"\"\n",
    "You're a course teaching assistant. Answer the QUESTION based on the CONTEXT from the FAQ database.\n",
    "Use only the facts from the CONTEXT when answering the QUESTION.\n",
    "\n",
    "QUESTION: {question}\n",
    "\n",
    "CONTEXT:\n",
    "{context}\n",
    "\"\"\".strip()\n",
    "\n",
    "prompt = prompt_template.format(question=question, context=context)\n",
    "print(len(prompt))\n"
   ]
  },
  {
   "cell_type": "markdown",
   "id": "d4ba36ab",
   "metadata": {},
   "source": [
    "## A5. \n",
    "\n",
    "The Leght of result prompt is \"1446\"."
   ]
  },
  {
   "cell_type": "markdown",
   "id": "d155ca7e",
   "metadata": {},
   "source": [
    "## Q6. Tokens\n",
    "\n",
    "When we use the OpenAI Platform, we're charged by the number of \n",
    "tokens we send in our prompt and receive in the response.\n",
    "\n",
    "The OpenAI python package uses `tiktoken` for tokenization:\n",
    "\n",
    "```bash\n",
    "pip install tiktoken\n",
    "```\n",
    "\n",
    "Let's calculate the number of tokens in our query: \n",
    "\n",
    "```python\n",
    "encoding = tiktoken.encoding_for_model(\"gpt-4o\")\n",
    "```\n",
    "\n",
    "Use the `encode` function. How many tokens does our prompt have?"
   ]
  },
  {
   "cell_type": "code",
   "execution_count": 16,
   "id": "7101b498",
   "metadata": {},
   "outputs": [],
   "source": [
    "# !pip install tiktoken\n"
   ]
  },
  {
   "cell_type": "code",
   "execution_count": 17,
   "id": "50d4c56d",
   "metadata": {},
   "outputs": [
    {
     "name": "stdout",
     "output_type": "stream",
     "text": [
      "320\n"
     ]
    }
   ],
   "source": [
    "import tiktoken\n",
    "encoding = tiktoken.encoding_for_model(\"gpt-4o\")\n",
    "tokens = encoding.encode(prompt)\n",
    "print(len(tokens))\n"
   ]
  },
  {
   "cell_type": "markdown",
   "id": "f1885524",
   "metadata": {},
   "source": [
    "## A6.\n",
    "\n",
    "Our prompt has \"320\" tokens."
   ]
  },
  {
   "cell_type": "markdown",
   "id": "9c3e341a",
   "metadata": {},
   "source": [
    "## A7 (Bonus)\n",
    "\n",
    "\n",
    "Let’s say:\n",
    "\n",
    "1000 requests\n",
    "\n",
    "150 input tokens\n",
    "\n",
    "250 output tokens\n",
    "\n",
    "\n",
    "Prices:\n",
    "\n",
    "Input: $0.005 / 1K tokens\n",
    "\n",
    "Output: $0.015 / 1K tokens"
   ]
  },
  {
   "cell_type": "code",
   "execution_count": 18,
   "id": "37e89849",
   "metadata": {},
   "outputs": [
    {
     "name": "stdout",
     "output_type": "stream",
     "text": [
      "4.5\n"
     ]
    }
   ],
   "source": [
    "input_cost = (1000 * 150 / 1000) * 0.005  # = $0.75\n",
    "output_cost = (1000 * 250 / 1000) * 0.015  # = $3.75\n",
    "total = input_cost + output_cost\n",
    "print(total)\n"
   ]
  }
 ],
 "metadata": {
  "kernelspec": {
   "display_name": "base",
   "language": "python",
   "name": "python3"
  },
  "language_info": {
   "codemirror_mode": {
    "name": "ipython",
    "version": 3
   },
   "file_extension": ".py",
   "mimetype": "text/x-python",
   "name": "python",
   "nbconvert_exporter": "python",
   "pygments_lexer": "ipython3",
   "version": "3.13.2"
  }
 },
 "nbformat": 4,
 "nbformat_minor": 5
}
