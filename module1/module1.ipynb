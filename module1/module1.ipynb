{
 "cells": [
  {
   "cell_type": "markdown",
   "id": "1136d235",
   "metadata": {},
   "source": [
    "# This Module 1 from LLM Zoomcamp from DTC"
   ]
  },
  {
   "cell_type": "markdown",
   "id": "f490118d",
   "metadata": {},
   "source": [
    "## LLM Zoomcamp 1.1 - Introduction to LLM and RAG"
   ]
  },
  {
   "cell_type": "markdown",
   "id": "97a0b538",
   "metadata": {},
   "source": [
    "### LLM (Large Language Model)\n",
    "\n",
    "- Language Model: Basic language (NLP) models predict next token/word based on previous ones.\n",
    "- LLM: The LMs trained on gorges data with billion and billons of parameter which trained Neural Networks. \n",
    "\n",
    "A Large Language Model (LLM) is a type of artificial intelligence model that uses deep learning to understand and generate human language. It's trained on massive amounts of text data, allowing it to learn patterns and structures in language and perform various natural language processing (NLP) tasks. \n",
    "\n",
    "\n",
    "Here's a more detailed explanation:\n",
    "\n",
    "-  Deep Learning:\n",
    "LLMs are based on deep learning, a subfield of machine learning that uses artificial neural networks with multiple layers to analyze data and learn complex patterns. \n",
    "\n",
    "- Transformer Architecture:\n",
    "Many LLMs are built upon the Transformer architecture, which allows them to process relationships between words in a sentence, even if they're far apart. \n",
    "\n",
    "- Training Data:\n",
    "LLMs are trained on vast amounts of text, such as books, articles, and websites, to learn the nuances of language and its various forms. \n",
    "\n",
    "- Capabilities:\n",
    "LLMs can perform a wide range of NLP tasks, including:\n",
    "    Text Generation: Creating different textual formats, like poems, code, scripts, musical pieces, email, letters, etc. \n",
    "\n",
    "- Translation: Translating languages. \n",
    "    - Question Answering: Answering questions based on provided information. \n",
    "    - Summarization: Condensing large amounts of text into a shorter version. \n",
    "    - Sentiment Analysis: Determining the emotional tone of a piece of text. \n",
    "    - Code Generation: Writing code. \n",
    "\n",
    "- Applications:\n",
    "LLMs have a wide range of applications across various industries, including:\n",
    "    - Customer Service: Providing automated customer support. \n",
    "    - Content Creation: Generating marketing copy, blog posts, and other content. \n",
    "    - Research: Analyzing large datasets of text to extract insights. \n",
    "    - Education: Helping students with writing and language learning. \n",
    "In essence, LLMs are powerful tools that can understand, generate, and manipulate human language, making them valuable in many fields. \n"
   ]
  },
  {
   "cell_type": "markdown",
   "id": "ff09f3ed",
   "metadata": {},
   "source": [
    "![What is LLM](LLM-zoomcamp-whatIsLLM.drawio.png)"
   ]
  },
  {
   "cell_type": "markdown",
   "id": "08e338d8",
   "metadata": {},
   "source": [
    "### RAG (Retrieval Augmented Generation)\n",
    "\n",
    "Retrieval-Augmented Generation, is a technique in natural language processing (NLP) that combines the strengths of retrieval and generative AI models. It works by first retrieving relevant information from a knowledge base and then using a large language model (LLM) to generate a response that incorporates the retrieved data. This allows for more accurate, up-to-date, and contextually relevant outputs. \n",
    "\n",
    "Here's a more detailed breakdown:\n",
    "\n",
    "*Retrieval*: RAG utilizes search algorithms to query external data sources like databases, knowledge bases, or even the web. \n",
    "\n",
    "*Integration*: The retrieved information is then integrated with a pre-trained LLM. \n",
    "\n",
    "*Generation*: The LLM uses the retrieved data to generate a response, which can be a question answer, a summary, or even new text. \n",
    "\n",
    "Benefits of RAG:\n",
    "- Enhanced Accuracy and Relevance:\n",
    "By accessing external knowledge, RAG can generate more precise and relevant responses. \n",
    "\n",
    "- Improved Contextual Understanding:\n",
    "The retrieved information helps the LLM better understand the context of the user's query, leading to more fitting answers. \n",
    "\n",
    "- Real-time Updates:\n",
    "RAG can incorporate up-to-date information from external sources, ensuring that the generated responses are current. \n",
    "\n",
    "- Source Attributions:\n",
    "RAG can provide citations or references to the sources used to generate the response, improving trust and transparency. \n",
    "\n",
    "- Cost-Effective:\n",
    "RAG can deliver some of the benefits of a custom LLM without the high cost of retraining or fine-tuning a new model. \n"
   ]
  },
  {
   "cell_type": "markdown",
   "id": "52cb8ba4",
   "metadata": {},
   "source": [
    "![What is RAG](LLM-zoomcamp-whatIsRAG.drawio.png)"
   ]
  },
  {
   "cell_type": "markdown",
   "id": "c452538f",
   "metadata": {},
   "source": [
    "## LLM Zoomcamp 1.2 - Configuring Your Environment \n",
    "Will be using codespace in loacl vscode via git."
   ]
  },
  {
   "cell_type": "markdown",
   "id": "1bc87b77",
   "metadata": {},
   "source": [
    "1. install requierments\n",
    "'''\n",
    "bash \n",
    "pip install tqdm notebook openai elasticsearch pandas scikit-learn ipywidgets\n",
    "'''\n",
    "\n",
    "2. Generate a key in openai and export in terminal\n",
    "'''\n",
    "bash \n",
    "export OPENAI_API_KEY=\"<your key>\"\n",
    "'''"
   ]
  },
  {
   "cell_type": "markdown",
   "id": "e83a2b81",
   "metadata": {},
   "source": [
    "### 1.2: Test openai api"
   ]
  },
  {
   "cell_type": "code",
   "execution_count": null,
   "id": "0787a1bc",
   "metadata": {},
   "outputs": [
    {
     "data": {
      "text/plain": [
       "'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'"
      ]
     },
     "execution_count": 1,
     "metadata": {},
     "output_type": "execute_result"
    }
   ],
   "source": [
    "import os\n",
    "api_key = os.getenv(\"OPENAI_API_KEY_V2\", \"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\") # works in notebook\n",
    "api_key"
   ]
  },
  {
   "cell_type": "code",
   "execution_count": 2,
   "id": "bf9a3d35-76d0-4689-a0e8-1dfc4646f91c",
   "metadata": {},
   "outputs": [],
   "source": [
    "from openai import OpenAI\n",
    "import os\n",
    "\n",
    "client = OpenAI(\n",
    "  base_url=\"https://openrouter.ai/api/v1\",\n",
    "  api_key=api_key\n",
    ")\n",
    "\n",
    "completion = client.chat.completions.create(\n",
    "  model=\"meta-llama/llama-3.3-8b-instruct:free\",\n",
    "  messages=[\n",
    "    {\n",
    "      \"role\": \"user\",\n",
    "      \"content\": \"What is the meaning of life?\"\n",
    "    }\n",
    "  ]\n",
    ")\n"
   ]
  },
  {
   "cell_type": "code",
   "execution_count": 3,
   "id": "9d2a422d",
   "metadata": {},
   "outputs": [
    {
     "name": "stdout",
     "output_type": "stream",
     "text": [
      "A question that has puzzled philosophers, theologians, scientists, and thinkers for centuries! The meaning of life is a complex and subjective concept that has been debated and explored in various ways. Here are some possible perspectives:\n",
      "\n",
      "1. **Biological and Physical Perspective**: From a biological and physical standpoint, the meaning of life is to survive and reproduce, ensuring the continuation of the species. This perspective suggests that life is driven by instinct, necessity, and the pursuit of self-preservation.\n",
      "2. **Existentialist Perspective**: Existentialists believe that life has no inherent meaning, and it's up to individuals to create their own purpose and meaning. This perspective emphasizes freedom, choice, and personal responsibility.\n",
      "3. **Humanistic Perspective**: Humanists argue that the meaning of life is to seek happiness, fulfillment, and self-actualization. This perspective focuses on the cultivation of human potential, personal growth, and the pursuit of well-being.\n",
      "4. **Spiritual and Religious Perspective**: Many spiritual and religious traditions believe that the meaning of life is to connect with a higher power, fulfill a divine purpose, or achieve spiritual enlightenment. This perspective often involves a sense of transcendence, morality, and a search for ultimate truth.\n",
      "5. **Philosophical Perspective**: Philosophers have offered various answers to the question of life's meaning, ranging from Aristotle's concept of \"eudaimonia\" (happiness and fulfillment) to the stoic idea of living in accordance with reason and virtue.\n",
      "6. **Social and Cultural Perspective**: The meaning of life can also be shaped by social and cultural factors, such as family, community, and cultural norms. This perspective highlights the importance of relationships, belonging, and contributing to the greater good.\n",
      "7. **Personal and Subjective Perspective**: Ultimately, the meaning of life is a highly personal and subjective experience. What gives one person's life meaning may not be the same for another. This perspective acknowledges that each individual must find their own answer to this question.\n",
      "\n",
      "In conclusion, the meaning of life is a multifaceted and complex concept that can be understood in various ways, depending on one's perspective, values, and experiences. While there may not be a single, definitive answer, exploring these different perspectives can help individuals gain a deeper understanding of themselves and the world around them.\n"
     ]
    }
   ],
   "source": [
    "print(completion.choices[0].message.content)"
   ]
  },
  {
   "cell_type": "code",
   "execution_count": 4,
   "id": "f7a8f0fd",
   "metadata": {},
   "outputs": [
    {
     "name": "stdout",
     "output_type": "stream",
     "text": [
      "It seems like you're inquiring about joining a course, but I'd need more details to provide a helpful response. Could you please provide more information about the course you're interested in, such as its nature (online, physical, study program, etc.), the deadline for enrollment, or any other relevant details? This will help me give you a more accurate answer regarding whether it's too late to join.\n"
     ]
    }
   ],
   "source": [
    "completion = client.chat.completions.create(\n",
    "  model=\"meta-llama/llama-3.3-8b-instruct:free\",\n",
    "  messages=[\n",
    "    {\n",
    "      \"role\": \"user\",\n",
    "      \"content\": \"Is it toolate to join the course?\"\n",
    "    }\n",
    "  ]\n",
    ")\n",
    "\n",
    "print(completion.choices[0].message.content)"
   ]
  },
  {
   "cell_type": "markdown",
   "id": "4b274a62",
   "metadata": {},
   "source": [
    "## LLM Zoomcamp 1.3 Retrieval"
   ]
  },
  {
   "cell_type": "markdown",
   "id": "040ec2c9",
   "metadata": {},
   "source": [
    "### 1.3.1 Implement a Search Engine\n",
    "\n",
    "For that go to original repo to follow\n",
    "\n",
    "#### [Build Your Own Search Engine ](https://github.com/alexeygrigorev/build-your-own-search-engine)\n",
    "\n",
    "or go to [internal folder](build_your_own_search_engine/README.md)"
   ]
  },
  {
   "cell_type": "markdown",
   "id": "9bee239f",
   "metadata": {},
   "source": [
    "Instead of building a serach engine we can continue a minimalist one buld by Alex from DTC. [Link](https://github.com/alexeygrigorev/minsearch)"
   ]
  },
  {
   "cell_type": "markdown",
   "id": "6f6e28fd",
   "metadata": {},
   "source": [
    "#### Intro to RAG"
   ]
  },
  {
   "cell_type": "code",
   "execution_count": 5,
   "id": "e1f4f8ac",
   "metadata": {},
   "outputs": [],
   "source": [
    "import minsearch"
   ]
  },
  {
   "cell_type": "code",
   "execution_count": 6,
   "id": "f4a15b85",
   "metadata": {},
   "outputs": [],
   "source": [
    "# load data\n",
    "\n",
    "import requests \n",
    "\n",
    "docs_url = 'https://github.com/alexeygrigorev/llm-rag-workshop/raw/main/notebooks/documents.json'\n",
    "docs_response = requests.get(docs_url)\n",
    "documents_raw = docs_response.json()\n",
    "\n",
    "documents = []\n",
    "\n",
    "for course in documents_raw:\n",
    "    course_name = course['course']\n",
    "\n",
    "    for doc in course['documents']:\n",
    "        doc['course'] = course_name\n",
    "        documents.append(doc)"
   ]
  },
  {
   "cell_type": "code",
   "execution_count": 7,
   "id": "c47f5259",
   "metadata": {},
   "outputs": [
    {
     "data": {
      "text/plain": [
       "{'text': \"The purpose of this document is to capture frequently asked technical questions\\nThe exact day and hour of the course will be 15th Jan 2024 at 17h00. The course will start with the first  “Office Hours'' live.1\\nSubscribe to course public Google Calendar (it works from Desktop only).\\nRegister before the course starts using this link.\\nJoin the course Telegram channel with announcements.\\nDon’t forget to register in DataTalks.Club's Slack and join the channel.\",\n",
       " 'section': 'General course-related questions',\n",
       " 'question': 'Course - When will the course start?',\n",
       " 'course': 'data-engineering-zoomcamp'}"
      ]
     },
     "execution_count": 7,
     "metadata": {},
     "output_type": "execute_result"
    }
   ],
   "source": [
    "documents[0]"
   ]
  },
  {
   "cell_type": "code",
   "execution_count": 8,
   "id": "dfe61e19",
   "metadata": {},
   "outputs": [],
   "source": [
    "# index the documents\n",
    "# Create and fit the index\n",
    "index = minsearch.Index(\n",
    "    text_fields=[\"question\", \"text\", \"section\"],\n",
    "    keyword_fields=[\"course\"]\n",
    ")"
   ]
  },
  {
   "cell_type": "code",
   "execution_count": 9,
   "id": "e4eb1101",
   "metadata": {},
   "outputs": [],
   "source": [
    "# SELECT * WHERE course = 'data-engineering-zoomcamp';"
   ]
  },
  {
   "cell_type": "markdown",
   "id": "fba57bc6",
   "metadata": {},
   "source": [
    "SELECT * WHERE course = 'data-engineering-zoomcamp';"
   ]
  },
  {
   "cell_type": "code",
   "execution_count": 10,
   "id": "a2e966bf",
   "metadata": {},
   "outputs": [],
   "source": [
    "q = 'the course already started, can I still enroll?'"
   ]
  },
  {
   "cell_type": "code",
   "execution_count": 11,
   "id": "ff1ce94d",
   "metadata": {},
   "outputs": [
    {
     "data": {
      "text/plain": [
       "<minsearch.minsearch.Index at 0x7767292712b0>"
      ]
     },
     "execution_count": 11,
     "metadata": {},
     "output_type": "execute_result"
    }
   ],
   "source": [
    "index.fit(documents)"
   ]
  },
  {
   "cell_type": "code",
   "execution_count": 12,
   "id": "ae459c01",
   "metadata": {},
   "outputs": [],
   "source": [
    "# define the boost to identify importance of fields\n",
    "# the higher the value, the more important the field is\n",
    "# the default value is 1.0 for all fields\n",
    "boost = {\n",
    "    'question': 3.0, 'section': 0.5\n",
    "}"
   ]
  },
  {
   "cell_type": "code",
   "execution_count": 13,
   "id": "2612823a",
   "metadata": {},
   "outputs": [],
   "source": [
    "results  = index.search(\n",
    "    query=q,\n",
    "    boost_dict=boost,\n",
    "    num_results=5\n",
    ")"
   ]
  },
  {
   "cell_type": "code",
   "execution_count": 14,
   "id": "bbe74689",
   "metadata": {},
   "outputs": [
    {
     "data": {
      "text/plain": [
       "[{'text': 'Yes, you can. You won’t be able to submit some of the homeworks, but you can still take part in the course.\\nIn order to get a certificate, you need to submit 2 out of 3 course projects and review 3 peers’ Projects by the deadline. It means that if you join the course at the end of November and manage to work on two projects, you will still be eligible for a certificate.',\n",
       "  'section': 'General course-related questions',\n",
       "  'question': 'The course has already started. Can I still join it?',\n",
       "  'course': 'machine-learning-zoomcamp'},\n",
       " {'text': \"Yes, even if you don't register, you're still eligible to submit the homeworks.\\nBe aware, however, that there will be deadlines for turning in the final projects. So don't leave everything for the last minute.\",\n",
       "  'section': 'General course-related questions',\n",
       "  'question': 'Course - Can I still join the course after the start date?',\n",
       "  'course': 'data-engineering-zoomcamp'},\n",
       " {'text': 'Yes, we will keep all the materials after the course finishes, so you can follow the course at your own pace after it finishes.\\nYou can also continue looking at the homeworks and continue preparing for the next cohort. I guess you can also start working on your final capstone project.',\n",
       "  'section': 'General course-related questions',\n",
       "  'question': 'Course - Can I follow the course after it finishes?',\n",
       "  'course': 'data-engineering-zoomcamp'},\n",
       " {'text': \"The purpose of this document is to capture frequently asked technical questions\\nThe exact day and hour of the course will be 15th Jan 2024 at 17h00. The course will start with the first  “Office Hours'' live.1\\nSubscribe to course public Google Calendar (it works from Desktop only).\\nRegister before the course starts using this link.\\nJoin the course Telegram channel with announcements.\\nDon’t forget to register in DataTalks.Club's Slack and join the channel.\",\n",
       "  'section': 'General course-related questions',\n",
       "  'question': 'Course - When will the course start?',\n",
       "  'course': 'data-engineering-zoomcamp'},\n",
       " {'text': 'You can start by installing and setting up all the dependencies and requirements:\\nGoogle cloud account\\nGoogle Cloud SDK\\nPython 3 (installed with Anaconda)\\nTerraform\\nGit\\nLook over the prerequisites and syllabus to see if you are comfortable with these subjects.',\n",
       "  'section': 'General course-related questions',\n",
       "  'question': 'Course - What can I do before the course starts?',\n",
       "  'course': 'data-engineering-zoomcamp'}]"
      ]
     },
     "execution_count": 14,
     "metadata": {},
     "output_type": "execute_result"
    }
   ],
   "source": [
    "results"
   ]
  },
  {
   "cell_type": "code",
   "execution_count": 15,
   "id": "54c8c8ce",
   "metadata": {},
   "outputs": [],
   "source": [
    "results  = index.search(\n",
    "    query=q,\n",
    "    filter_dict={'course': 'data-engineering-zoomcamp'},\n",
    "    boost_dict=boost,\n",
    "    num_results=5\n",
    ")"
   ]
  },
  {
   "cell_type": "code",
   "execution_count": 16,
   "id": "9cf2ac8a",
   "metadata": {},
   "outputs": [
    {
     "data": {
      "text/plain": [
       "[{'text': \"Yes, even if you don't register, you're still eligible to submit the homeworks.\\nBe aware, however, that there will be deadlines for turning in the final projects. So don't leave everything for the last minute.\",\n",
       "  'section': 'General course-related questions',\n",
       "  'question': 'Course - Can I still join the course after the start date?',\n",
       "  'course': 'data-engineering-zoomcamp'},\n",
       " {'text': 'Yes, we will keep all the materials after the course finishes, so you can follow the course at your own pace after it finishes.\\nYou can also continue looking at the homeworks and continue preparing for the next cohort. I guess you can also start working on your final capstone project.',\n",
       "  'section': 'General course-related questions',\n",
       "  'question': 'Course - Can I follow the course after it finishes?',\n",
       "  'course': 'data-engineering-zoomcamp'},\n",
       " {'text': \"The purpose of this document is to capture frequently asked technical questions\\nThe exact day and hour of the course will be 15th Jan 2024 at 17h00. The course will start with the first  “Office Hours'' live.1\\nSubscribe to course public Google Calendar (it works from Desktop only).\\nRegister before the course starts using this link.\\nJoin the course Telegram channel with announcements.\\nDon’t forget to register in DataTalks.Club's Slack and join the channel.\",\n",
       "  'section': 'General course-related questions',\n",
       "  'question': 'Course - When will the course start?',\n",
       "  'course': 'data-engineering-zoomcamp'},\n",
       " {'text': 'You can start by installing and setting up all the dependencies and requirements:\\nGoogle cloud account\\nGoogle Cloud SDK\\nPython 3 (installed with Anaconda)\\nTerraform\\nGit\\nLook over the prerequisites and syllabus to see if you are comfortable with these subjects.',\n",
       "  'section': 'General course-related questions',\n",
       "  'question': 'Course - What can I do before the course starts?',\n",
       "  'course': 'data-engineering-zoomcamp'},\n",
       " {'text': 'Yes, the slack channel remains open and you can ask questions there. But always sDocker containers exit code w search the channel first and second, check the FAQ (this document), most likely all your questions are already answered here.\\nYou can also tag the bot @ZoomcampQABot to help you conduct the search, but don’t rely on its answers 100%, it is pretty good though.',\n",
       "  'section': 'General course-related questions',\n",
       "  'question': 'Course - Can I get support if I take the course in the self-paced mode?',\n",
       "  'course': 'data-engineering-zoomcamp'}]"
      ]
     },
     "execution_count": 16,
     "metadata": {},
     "output_type": "execute_result"
    }
   ],
   "source": [
    "results"
   ]
  },
  {
   "cell_type": "markdown",
   "id": "5fa8040d",
   "metadata": {},
   "source": [
    "## LLM Zoomcamp 1.4 - Generating Answers with LLM"
   ]
  },
  {
   "cell_type": "code",
   "execution_count": 21,
   "id": "63871538",
   "metadata": {},
   "outputs": [],
   "source": [
    "import os\n",
    "api_key = os.getenv(\"OPENAI_API_KEY\", \"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\")"
   ]
  },
  {
   "cell_type": "code",
   "execution_count": 22,
   "id": "d77e42ba",
   "metadata": {},
   "outputs": [],
   "source": [
    "from openai import OpenAI\n",
    "\n",
    "client = OpenAI(\n",
    "  base_url=\"https://openrouter.ai/api/v1\",\n",
    "  api_key=api_key\n",
    ")"
   ]
  },
  {
   "cell_type": "code",
   "execution_count": 23,
   "id": "88a35079",
   "metadata": {},
   "outputs": [
    {
     "data": {
      "text/plain": [
       "'the course already started, can I still enroll?'"
      ]
     },
     "execution_count": 23,
     "metadata": {},
     "output_type": "execute_result"
    }
   ],
   "source": [
    "q"
   ]
  },
  {
   "cell_type": "code",
   "execution_count": 25,
   "id": "d1d93fc3",
   "metadata": {},
   "outputs": [],
   "source": [
    "response = client.chat.completions.create(\n",
    "    model=\"meta-llama/llama-3.3-8b-instruct:free\",\n",
    "    messages=[\n",
    "        {\"role\": \"user\", \"content\": q}\n",
    "    ]\n",
    ")"
   ]
  },
  {
   "cell_type": "code",
   "execution_count": 28,
   "id": "a1bdf744",
   "metadata": {},
   "outputs": [
    {
     "data": {
      "text/plain": [
       "\"Whether you can still enroll in a course that has already started depends on the specific policies of the course provider, such as a college, online learning platform, or training organization. Here are some general factors to consider:\\n\\n1. **Check the course provider's policy**: Look for information on their website, in the course details, or contact their customer support or enrollment team directly. Some providers might allow late enrollment, while others might have strict deadlines.\\n\\n2. **Late Enrollment Fees**: If late enrollment is permitted, there might be additional fees. These can vary widely, so it's essential to ask about any extra costs.\\n\\n3. **catch-up process**: If you enroll late, you might need to catch up on the material that has already been covered. This could mean additional work on your part to stay on track with the rest of the class.\\n\\n4. **Alternative start points**: In some cases, you might be allowed to start at a later point in the course, depending on what you've already completed or what the instructor allows.\\n\\n5. **Instructor's discretion**: In some situations, the decision to allow late enrollment might be at the discretion of the instructor. Reaching out to them directly can provide more insight into your specific situation.\\n\\n6. **Online vs. in-person courses**: Policies can differ significantly between online courses and in-person classes. Online courses might be more flexible, while in-person classes have more rigid schedules and rules.\\n\\nIf you're eager to enroll in a course that has already started, it's a good idea to act quickly. Contact the course provider as soon as possible to determine your options and any potential next steps.\""
      ]
     },
     "execution_count": 28,
     "metadata": {},
     "output_type": "execute_result"
    }
   ],
   "source": [
    "response.choices[0].message.content"
   ]
  },
  {
   "cell_type": "code",
   "execution_count": 41,
   "id": "bf2e6303",
   "metadata": {},
   "outputs": [],
   "source": [
    "prompt_template = \"\"\"\n",
    "PROMPT:\n",
    "You are a course teaching assistant.\n",
    "Your task is to help students with their questions about the course material based on the context provided from the FAQ database.\n",
    "Use only the context to answer the questions. If the context does not provide enough information, respond with \"I don't know\" or \"I don't have enough information to answer that question.\"\n",
    "Be polite and concise in your responses.\n",
    "\n",
    "QUESTION: {question}\n",
    "\n",
    "CONTEXT:\n",
    "{context}\n",
    "\"\"\""
   ]
  },
  {
   "cell_type": "code",
   "execution_count": 42,
   "id": "154eae77",
   "metadata": {},
   "outputs": [
    {
     "data": {
      "text/plain": [
       "[{'text': \"Yes, even if you don't register, you're still eligible to submit the homeworks.\\nBe aware, however, that there will be deadlines for turning in the final projects. So don't leave everything for the last minute.\",\n",
       "  'section': 'General course-related questions',\n",
       "  'question': 'Course - Can I still join the course after the start date?',\n",
       "  'course': 'data-engineering-zoomcamp'},\n",
       " {'text': 'Yes, we will keep all the materials after the course finishes, so you can follow the course at your own pace after it finishes.\\nYou can also continue looking at the homeworks and continue preparing for the next cohort. I guess you can also start working on your final capstone project.',\n",
       "  'section': 'General course-related questions',\n",
       "  'question': 'Course - Can I follow the course after it finishes?',\n",
       "  'course': 'data-engineering-zoomcamp'},\n",
       " {'text': \"The purpose of this document is to capture frequently asked technical questions\\nThe exact day and hour of the course will be 15th Jan 2024 at 17h00. The course will start with the first  “Office Hours'' live.1\\nSubscribe to course public Google Calendar (it works from Desktop only).\\nRegister before the course starts using this link.\\nJoin the course Telegram channel with announcements.\\nDon’t forget to register in DataTalks.Club's Slack and join the channel.\",\n",
       "  'section': 'General course-related questions',\n",
       "  'question': 'Course - When will the course start?',\n",
       "  'course': 'data-engineering-zoomcamp'},\n",
       " {'text': 'You can start by installing and setting up all the dependencies and requirements:\\nGoogle cloud account\\nGoogle Cloud SDK\\nPython 3 (installed with Anaconda)\\nTerraform\\nGit\\nLook over the prerequisites and syllabus to see if you are comfortable with these subjects.',\n",
       "  'section': 'General course-related questions',\n",
       "  'question': 'Course - What can I do before the course starts?',\n",
       "  'course': 'data-engineering-zoomcamp'},\n",
       " {'text': 'Yes, the slack channel remains open and you can ask questions there. But always sDocker containers exit code w search the channel first and second, check the FAQ (this document), most likely all your questions are already answered here.\\nYou can also tag the bot @ZoomcampQABot to help you conduct the search, but don’t rely on its answers 100%, it is pretty good though.',\n",
       "  'section': 'General course-related questions',\n",
       "  'question': 'Course - Can I get support if I take the course in the self-paced mode?',\n",
       "  'course': 'data-engineering-zoomcamp'}]"
      ]
     },
     "execution_count": 42,
     "metadata": {},
     "output_type": "execute_result"
    }
   ],
   "source": [
    "results"
   ]
  },
  {
   "cell_type": "code",
   "execution_count": 43,
   "id": "27024bca",
   "metadata": {},
   "outputs": [],
   "source": [
    "context = \"\"\n",
    "\n",
    "for doc in results:\n",
    "    context = context + f\"section: {doc['section']}\\nquestion: {doc['question']}\\nanswer: {doc['text']}\\n\\n\""
   ]
  },
  {
   "cell_type": "code",
   "execution_count": 44,
   "id": "f2688e39",
   "metadata": {},
   "outputs": [
    {
     "name": "stdout",
     "output_type": "stream",
     "text": [
      "section: General course-related questions\n",
      "question: Course - Can I still join the course after the start date?\n",
      "answer: Yes, even if you don't register, you're still eligible to submit the homeworks.\n",
      "Be aware, however, that there will be deadlines for turning in the final projects. So don't leave everything for the last minute.\n",
      "\n",
      "section: General course-related questions\n",
      "question: Course - Can I follow the course after it finishes?\n",
      "answer: Yes, we will keep all the materials after the course finishes, so you can follow the course at your own pace after it finishes.\n",
      "You can also continue looking at the homeworks and continue preparing for the next cohort. I guess you can also start working on your final capstone project.\n",
      "\n",
      "section: General course-related questions\n",
      "question: Course - When will the course start?\n",
      "answer: The purpose of this document is to capture frequently asked technical questions\n",
      "The exact day and hour of the course will be 15th Jan 2024 at 17h00. The course will start with the first  “Office Hours'' live.1\n",
      "Subscribe to course public Google Calendar (it works from Desktop only).\n",
      "Register before the course starts using this link.\n",
      "Join the course Telegram channel with announcements.\n",
      "Don’t forget to register in DataTalks.Club's Slack and join the channel.\n",
      "\n",
      "section: General course-related questions\n",
      "question: Course - What can I do before the course starts?\n",
      "answer: You can start by installing and setting up all the dependencies and requirements:\n",
      "Google cloud account\n",
      "Google Cloud SDK\n",
      "Python 3 (installed with Anaconda)\n",
      "Terraform\n",
      "Git\n",
      "Look over the prerequisites and syllabus to see if you are comfortable with these subjects.\n",
      "\n",
      "section: General course-related questions\n",
      "question: Course - Can I get support if I take the course in the self-paced mode?\n",
      "answer: Yes, the slack channel remains open and you can ask questions there. But always sDocker containers exit code w search the channel first and second, check the FAQ (this document), most likely all your questions are already answered here.\n",
      "You can also tag the bot @ZoomcampQABot to help you conduct the search, but don’t rely on its answers 100%, it is pretty good though.\n",
      "\n",
      "\n"
     ]
    }
   ],
   "source": [
    "print(context)"
   ]
  },
  {
   "cell_type": "code",
   "execution_count": 45,
   "id": "134fc9ae",
   "metadata": {},
   "outputs": [
    {
     "name": "stdout",
     "output_type": "stream",
     "text": [
      "PROMPT:\n",
      "You are a course teaching assistant.\n",
      "Your task is to help students with their questions about the course material based on the context provided from the FAQ database.\n",
      "Use only the context to answer the questions. If the context does not provide enough information, respond with \"I don't know\" or \"I don't have enough information to answer that question.\"\n",
      "Be polite and concise in your responses.\n",
      "\n",
      "QUESTION: the course already started, can I still enroll?\n",
      "\n",
      "CONTEXT:\n",
      "section: General course-related questions\n",
      "question: Course - Can I still join the course after the start date?\n",
      "answer: Yes, even if you don't register, you're still eligible to submit the homeworks.\n",
      "Be aware, however, that there will be deadlines for turning in the final projects. So don't leave everything for the last minute.\n",
      "\n",
      "section: General course-related questions\n",
      "question: Course - Can I follow the course after it finishes?\n",
      "answer: Yes, we will keep all the materials after the course finishes, so you can follow the course at your own pace after it finishes.\n",
      "You can also continue looking at the homeworks and continue preparing for the next cohort. I guess you can also start working on your final capstone project.\n",
      "\n",
      "section: General course-related questions\n",
      "question: Course - When will the course start?\n",
      "answer: The purpose of this document is to capture frequently asked technical questions\n",
      "The exact day and hour of the course will be 15th Jan 2024 at 17h00. The course will start with the first  “Office Hours'' live.1\n",
      "Subscribe to course public Google Calendar (it works from Desktop only).\n",
      "Register before the course starts using this link.\n",
      "Join the course Telegram channel with announcements.\n",
      "Don’t forget to register in DataTalks.Club's Slack and join the channel.\n",
      "\n",
      "section: General course-related questions\n",
      "question: Course - What can I do before the course starts?\n",
      "answer: You can start by installing and setting up all the dependencies and requirements:\n",
      "Google cloud account\n",
      "Google Cloud SDK\n",
      "Python 3 (installed with Anaconda)\n",
      "Terraform\n",
      "Git\n",
      "Look over the prerequisites and syllabus to see if you are comfortable with these subjects.\n",
      "\n",
      "section: General course-related questions\n",
      "question: Course - Can I get support if I take the course in the self-paced mode?\n",
      "answer: Yes, the slack channel remains open and you can ask questions there. But always sDocker containers exit code w search the channel first and second, check the FAQ (this document), most likely all your questions are already answered here.\n",
      "You can also tag the bot @ZoomcampQABot to help you conduct the search, but don’t rely on its answers 100%, it is pretty good though.\n"
     ]
    }
   ],
   "source": [
    "prompt = prompt_template.format(question=q, context=context).strip()\n",
    "print(prompt)"
   ]
  },
  {
   "cell_type": "code",
   "execution_count": 46,
   "id": "6ce00129",
   "metadata": {},
   "outputs": [],
   "source": [
    "response = client.chat.completions.create(\n",
    "    model=\"meta-llama/llama-3.3-8b-instruct:free\",\n",
    "    messages=[\n",
    "        {\"role\": \"user\", \"content\": prompt}\n",
    "    ]\n",
    ")"
   ]
  },
  {
   "cell_type": "code",
   "execution_count": 47,
   "id": "e16ef595",
   "metadata": {},
   "outputs": [
    {
     "data": {
      "text/plain": [
       "\"Yes, you can still enroll in the course even though it has already started. You'll still be eligible to submit homeworks, but be aware of the deadlines for the final projects.\""
      ]
     },
     "execution_count": 47,
     "metadata": {},
     "output_type": "execute_result"
    }
   ],
   "source": [
    "response.choices[0].message.content"
   ]
  },
  {
   "cell_type": "code",
   "execution_count": null,
   "id": "878e4f0f",
   "metadata": {},
   "outputs": [],
   "source": []
  }
 ],
 "metadata": {
  "kernelspec": {
   "display_name": "base",
   "language": "python",
   "name": "python3"
  },
  "language_info": {
   "codemirror_mode": {
    "name": "ipython",
    "version": 3
   },
   "file_extension": ".py",
   "mimetype": "text/x-python",
   "name": "python",
   "nbconvert_exporter": "python",
   "pygments_lexer": "ipython3",
   "version": "3.13.2"
  }
 },
 "nbformat": 4,
 "nbformat_minor": 5
}
