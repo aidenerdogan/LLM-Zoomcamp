{
 "cells": [
  {
   "cell_type": "markdown",
   "id": "1136d235",
   "metadata": {},
   "source": [
    "# This Module 1 from LLM Zoomcamp from DTC"
   ]
  },
  {
   "cell_type": "markdown",
   "id": "f490118d",
   "metadata": {},
   "source": [
    "## LLM Zoomcamp 1.1 - Introduction to LLM and RAG"
   ]
  },
  {
   "cell_type": "markdown",
   "id": "97a0b538",
   "metadata": {},
   "source": [
    "### LLM (Large Language Model)\n",
    "\n",
    "- Language Model: Basic language (NLP) models predict next token/word based on previous ones.\n",
    "- LLM: The LMs trained on gorges data with billion and billons of parameter which trained Neural Networks. \n",
    "\n",
    "A Large Language Model (LLM) is a type of artificial intelligence model that uses deep learning to understand and generate human language. It's trained on massive amounts of text data, allowing it to learn patterns and structures in language and perform various natural language processing (NLP) tasks. \n",
    "\n",
    "\n",
    "Here's a more detailed explanation:\n",
    "\n",
    "-  Deep Learning:\n",
    "LLMs are based on deep learning, a subfield of machine learning that uses artificial neural networks with multiple layers to analyze data and learn complex patterns. \n",
    "\n",
    "- Transformer Architecture:\n",
    "Many LLMs are built upon the Transformer architecture, which allows them to process relationships between words in a sentence, even if they're far apart. \n",
    "\n",
    "- Training Data:\n",
    "LLMs are trained on vast amounts of text, such as books, articles, and websites, to learn the nuances of language and its various forms. \n",
    "\n",
    "- Capabilities:\n",
    "LLMs can perform a wide range of NLP tasks, including:\n",
    "    Text Generation: Creating different textual formats, like poems, code, scripts, musical pieces, email, letters, etc. \n",
    "\n",
    "- Translation: Translating languages. \n",
    "    - Question Answering: Answering questions based on provided information. \n",
    "    - Summarization: Condensing large amounts of text into a shorter version. \n",
    "    - Sentiment Analysis: Determining the emotional tone of a piece of text. \n",
    "    - Code Generation: Writing code. \n",
    "\n",
    "- Applications:\n",
    "LLMs have a wide range of applications across various industries, including:\n",
    "    - Customer Service: Providing automated customer support. \n",
    "    - Content Creation: Generating marketing copy, blog posts, and other content. \n",
    "    - Research: Analyzing large datasets of text to extract insights. \n",
    "    - Education: Helping students with writing and language learning. \n",
    "In essence, LLMs are powerful tools that can understand, generate, and manipulate human language, making them valuable in many fields. \n"
   ]
  },
  {
   "cell_type": "markdown",
   "id": "ff09f3ed",
   "metadata": {},
   "source": [
    "![What is LLM](LLM-zoomcamp-whatIsLLM.drawio.png)"
   ]
  },
  {
   "cell_type": "markdown",
   "id": "08e338d8",
   "metadata": {},
   "source": [
    "### RAG (Retrieval Augmented Generation)\n",
    "\n",
    "Retrieval-Augmented Generation, is a technique in natural language processing (NLP) that combines the strengths of retrieval and generative AI models. It works by first retrieving relevant information from a knowledge base and then using a large language model (LLM) to generate a response that incorporates the retrieved data. This allows for more accurate, up-to-date, and contextually relevant outputs. \n",
    "\n",
    "Here's a more detailed breakdown:\n",
    "\n",
    "*Retrieval*: RAG utilizes search algorithms to query external data sources like databases, knowledge bases, or even the web. \n",
    "\n",
    "*Integration*: The retrieved information is then integrated with a pre-trained LLM. \n",
    "\n",
    "*Generation*: The LLM uses the retrieved data to generate a response, which can be a question answer, a summary, or even new text. \n",
    "\n",
    "Benefits of RAG:\n",
    "- Enhanced Accuracy and Relevance:\n",
    "By accessing external knowledge, RAG can generate more precise and relevant responses. \n",
    "\n",
    "- Improved Contextual Understanding:\n",
    "The retrieved information helps the LLM better understand the context of the user's query, leading to more fitting answers. \n",
    "\n",
    "- Real-time Updates:\n",
    "RAG can incorporate up-to-date information from external sources, ensuring that the generated responses are current. \n",
    "\n",
    "- Source Attributions:\n",
    "RAG can provide citations or references to the sources used to generate the response, improving trust and transparency. \n",
    "\n",
    "- Cost-Effective:\n",
    "RAG can deliver some of the benefits of a custom LLM without the high cost of retraining or fine-tuning a new model. \n"
   ]
  },
  {
   "cell_type": "markdown",
   "id": "52cb8ba4",
   "metadata": {},
   "source": [
    "![What is RAG](LLM-zoomcamp-whatIsRAG.drawio.png)"
   ]
  },
  {
   "cell_type": "markdown",
   "id": "c452538f",
   "metadata": {},
   "source": [
    "## LLM Zoomcamp 1.2 - Configuring Your Environment \n",
    "Will be using codespace in loacl vscode via git."
   ]
  },
  {
   "cell_type": "markdown",
   "id": "1bc87b77",
   "metadata": {},
   "source": [
    "1. install requierments\n",
    "'''\n",
    "bash \n",
    "pip install tqdm notebook openai elasticsearch pandas scikit-learn ipywidgets\n",
    "'''\n",
    "\n",
    "2. Generate a key in openai and export in terminal\n",
    "'''\n",
    "bash \n",
    "export OPENAI_API_KEY=\"<your key>\"\n",
    "'''"
   ]
  },
  {
   "cell_type": "markdown",
   "id": "e83a2b81",
   "metadata": {},
   "source": [
    "### 1.2: Test openai api"
   ]
  },
  {
   "cell_type": "code",
   "execution_count": null,
   "id": "0787a1bc",
   "metadata": {},
   "outputs": [
    {
     "data": {
      "text/plain": [
       "'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'"
      ]
     },
     "execution_count": 1,
     "metadata": {},
     "output_type": "execute_result"
    }
   ],
   "source": [
    "import os\n",
    "api_key = os.getenv(\"OPENAI_API_KEY_V2\") # works in notebook\n",
    "api_key"
   ]
  },
  {
   "cell_type": "code",
   "execution_count": 2,
   "id": "bf9a3d35-76d0-4689-a0e8-1dfc4646f91c",
   "metadata": {},
   "outputs": [],
   "source": [
    "from openai import OpenAI\n",
    "import os\n",
    "\n",
    "client = OpenAI(\n",
    "  base_url=\"https://openrouter.ai/api/v1\",\n",
    "  api_key=api_key\n",
    ")\n",
    "\n",
    "completion = client.chat.completions.create(\n",
    "  model=\"meta-llama/llama-3.3-8b-instruct:free\",\n",
    "  messages=[\n",
    "    {\n",
    "      \"role\": \"user\",\n",
    "      \"content\": \"What is the meaning of life?\"\n",
    "    }\n",
    "  ]\n",
    ")\n"
   ]
  },
  {
   "cell_type": "code",
   "execution_count": 3,
   "id": "9d2a422d",
   "metadata": {},
   "outputs": [
    {
     "name": "stdout",
     "output_type": "stream",
     "text": [
      "A question that has puzzled philosophers, theologians, scientists, and thinkers for centuries! The meaning of life is a complex and subjective concept that has been debated and explored in various ways. Here are some possible perspectives:\n",
      "\n",
      "1. **Biological and Physical Perspective**: From a biological and physical standpoint, the meaning of life is to survive and reproduce, ensuring the continuation of the species. This perspective suggests that life is driven by instinct, necessity, and the pursuit of self-preservation.\n",
      "2. **Existentialist Perspective**: Existentialists believe that life has no inherent meaning, and it's up to individuals to create their own purpose and meaning. This perspective emphasizes freedom, choice, and personal responsibility.\n",
      "3. **Humanistic Perspective**: Humanists argue that the meaning of life is to seek happiness, fulfillment, and self-actualization. This perspective focuses on the cultivation of human potential, personal growth, and the pursuit of well-being.\n",
      "4. **Spiritual and Religious Perspective**: Many spiritual and religious traditions believe that the meaning of life is to connect with a higher power, fulfill a divine purpose, or achieve spiritual enlightenment. This perspective often involves a sense of transcendence, morality, and a search for ultimate truth.\n",
      "5. **Philosophical Perspective**: Philosophers have offered various answers to the question of life's meaning, ranging from Aristotle's concept of \"eudaimonia\" (happiness and fulfillment) to the stoic idea of living in accordance with reason and virtue.\n",
      "6. **Social and Cultural Perspective**: The meaning of life can also be shaped by social and cultural factors, such as family, community, and cultural norms. This perspective highlights the importance of relationships, belonging, and contributing to the greater good.\n",
      "7. **Personal and Subjective Perspective**: Ultimately, the meaning of life is a highly personal and subjective experience. What gives one person's life meaning may not be the same for another. This perspective acknowledges that each individual must find their own answer to this question.\n",
      "\n",
      "In conclusion, the meaning of life is a multifaceted and complex concept that can be understood in various ways, depending on one's perspective, values, and experiences. While there may not be a single, definitive answer, exploring these different perspectives can help individuals gain a deeper understanding of themselves and the world around them.\n"
     ]
    }
   ],
   "source": [
    "print(completion.choices[0].message.content)"
   ]
  },
  {
   "cell_type": "code",
   "execution_count": 4,
   "id": "f7a8f0fd",
   "metadata": {},
   "outputs": [
    {
     "name": "stdout",
     "output_type": "stream",
     "text": [
      "It seems like you're inquiring about joining a course, but I'd need more details to provide a helpful response. Could you please provide more information about the course you're interested in, such as its nature (online, physical, study program, etc.), the deadline for enrollment, or any other relevant details? This will help me give you a more accurate answer regarding whether it's too late to join.\n"
     ]
    }
   ],
   "source": [
    "completion = client.chat.completions.create(\n",
    "  model=\"meta-llama/llama-3.3-8b-instruct:free\",\n",
    "  messages=[\n",
    "    {\n",
    "      \"role\": \"user\",\n",
    "      \"content\": \"Is it toolate to join the course?\"\n",
    "    }\n",
    "  ]\n",
    ")\n",
    "\n",
    "print(completion.choices[0].message.content)"
   ]
  },
  {
   "cell_type": "markdown",
   "id": "4b274a62",
   "metadata": {},
   "source": [
    "## LLM Zoomcamp 1.3 Retrieval"
   ]
  },
  {
   "cell_type": "markdown",
   "id": "040ec2c9",
   "metadata": {},
   "source": [
    "### 1.3.1 Implement a Search Engine\n",
    "\n",
    "For that go to original repo to follow\n",
    "\n",
    "#### [Build Your Own Search Engine ](https://github.com/alexeygrigorev/build-your-own-search-engine)\n",
    "\n",
    "or go to [internal folder](build_your_own_search_engine/README.md)"
   ]
  },
  {
   "cell_type": "markdown",
   "id": "9bee239f",
   "metadata": {},
   "source": [
    "Instead of building a serach engine we can continue a minimalist one buld by Alex from DTC. [Link](https://github.com/alexeygrigorev/minsearch)"
   ]
  },
  {
   "cell_type": "code",
   "execution_count": null,
   "id": "70c56dc3",
   "metadata": {},
   "outputs": [],
   "source": []
  }
 ],
 "metadata": {
  "kernelspec": {
   "display_name": "base",
   "language": "python",
   "name": "python3"
  },
  "language_info": {
   "codemirror_mode": {
    "name": "ipython",
    "version": 3
   },
   "file_extension": ".py",
   "mimetype": "text/x-python",
   "name": "python",
   "nbconvert_exporter": "python",
   "pygments_lexer": "ipython3",
   "version": "3.13.2"
  }
 },
 "nbformat": 4,
 "nbformat_minor": 5
}
