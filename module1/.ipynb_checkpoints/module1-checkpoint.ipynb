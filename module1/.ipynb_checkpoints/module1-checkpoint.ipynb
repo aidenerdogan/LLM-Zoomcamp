{
 "cells": [
  {
   "cell_type": "markdown",
   "id": "1136d235",
   "metadata": {},
   "source": [
    "# This Module 1 from LLM Zoomcamp from DTC"
   ]
  },
  {
   "cell_type": "markdown",
   "id": "f490118d",
   "metadata": {},
   "source": [
    "## LLM Zoomcamp 1.1 - Introduction to LLM and RAG"
   ]
  },
  {
   "cell_type": "markdown",
   "id": "97a0b538",
   "metadata": {},
   "source": [
    "### LLM (Large Language Model)\n",
    "\n",
    "- Language Model: Basic language (NLP) models predict next token/word based on previous ones.\n",
    "- LLM: The LMs trained on gorges data with billion and billons of parameter which trained Neural Networks. \n",
    "\n",
    "A Large Language Model (LLM) is a type of artificial intelligence model that uses deep learning to understand and generate human language. It's trained on massive amounts of text data, allowing it to learn patterns and structures in language and perform various natural language processing (NLP) tasks. \n",
    "\n",
    "\n",
    "Here's a more detailed explanation:\n",
    "\n",
    "-  Deep Learning:\n",
    "LLMs are based on deep learning, a subfield of machine learning that uses artificial neural networks with multiple layers to analyze data and learn complex patterns. \n",
    "\n",
    "- Transformer Architecture:\n",
    "Many LLMs are built upon the Transformer architecture, which allows them to process relationships between words in a sentence, even if they're far apart. \n",
    "\n",
    "- Training Data:\n",
    "LLMs are trained on vast amounts of text, such as books, articles, and websites, to learn the nuances of language and its various forms. \n",
    "\n",
    "- Capabilities:\n",
    "LLMs can perform a wide range of NLP tasks, including:\n",
    "    Text Generation: Creating different textual formats, like poems, code, scripts, musical pieces, email, letters, etc. \n",
    "\n",
    "- Translation: Translating languages. \n",
    "    - Question Answering: Answering questions based on provided information. \n",
    "    - Summarization: Condensing large amounts of text into a shorter version. \n",
    "    - Sentiment Analysis: Determining the emotional tone of a piece of text. \n",
    "    - Code Generation: Writing code. \n",
    "\n",
    "- Applications:\n",
    "LLMs have a wide range of applications across various industries, including:\n",
    "    - Customer Service: Providing automated customer support. \n",
    "    - Content Creation: Generating marketing copy, blog posts, and other content. \n",
    "    - Research: Analyzing large datasets of text to extract insights. \n",
    "    - Education: Helping students with writing and language learning. \n",
    "In essence, LLMs are powerful tools that can understand, generate, and manipulate human language, making them valuable in many fields. \n"
   ]
  },
  {
   "cell_type": "markdown",
   "id": "ff09f3ed",
   "metadata": {},
   "source": [
    "![What is LLM](/module1/LLM-zoomcamp-whatIsLLM.drawio.png)"
   ]
  },
  {
   "cell_type": "markdown",
   "id": "08e338d8",
   "metadata": {},
   "source": [
    "### RAG (Retrieval Augmented Generation)\n",
    "\n",
    "Retrieval-Augmented Generation, is a technique in natural language processing (NLP) that combines the strengths of retrieval and generative AI models. It works by first retrieving relevant information from a knowledge base and then using a large language model (LLM) to generate a response that incorporates the retrieved data. This allows for more accurate, up-to-date, and contextually relevant outputs. \n",
    "\n",
    "Here's a more detailed breakdown:\n",
    "\n",
    "*Retrieval*: RAG utilizes search algorithms to query external data sources like databases, knowledge bases, or even the web. \n",
    "\n",
    "*Integration*: The retrieved information is then integrated with a pre-trained LLM. \n",
    "\n",
    "*Generation*: The LLM uses the retrieved data to generate a response, which can be a question answer, a summary, or even new text. \n",
    "\n",
    "Benefits of RAG:\n",
    "- Enhanced Accuracy and Relevance:\n",
    "By accessing external knowledge, RAG can generate more precise and relevant responses. \n",
    "\n",
    "- Improved Contextual Understanding:\n",
    "The retrieved information helps the LLM better understand the context of the user's query, leading to more fitting answers. \n",
    "\n",
    "- Real-time Updates:\n",
    "RAG can incorporate up-to-date information from external sources, ensuring that the generated responses are current. \n",
    "\n",
    "- Source Attributions:\n",
    "RAG can provide citations or references to the sources used to generate the response, improving trust and transparency. \n",
    "\n",
    "- Cost-Effective:\n",
    "RAG can deliver some of the benefits of a custom LLM without the high cost of retraining or fine-tuning a new model. \n"
   ]
  },
  {
   "cell_type": "markdown",
   "id": "52cb8ba4",
   "metadata": {},
   "source": [
    "![What is RAG](/module1/LLM-zoomcamp-whatIsRAG.drawio.png)"
   ]
  },
  {
   "cell_type": "markdown",
   "id": "c452538f",
   "metadata": {},
   "source": [
    "## LLM Zoomcamp 1.2 - Configuring Your Environment\n",
    "Will be using codespace in loacl vscode vşa git."
   ]
  },
  {
   "cell_type": "markdown",
   "id": "1bc87b77",
   "metadata": {},
   "source": [
    "1. install requierments\n",
    "'''\n",
    "bash \n",
    "pip install tqdm notebook openai elasticsearch pandas scikit-learn ipywidgets\n",
    "'''\n",
    "\n",
    "2. Generate a key in openai and export in terminal\n",
    "'''\n",
    "bash \n",
    "export OPENAI_API_KEY=\"<your key>\"\n",
    "'''"
   ]
  },
  {
   "cell_type": "markdown",
   "id": "e83a2b81",
   "metadata": {},
   "source": [
    "### 1.2: Test openai api"
   ]
  },
  {
   "cell_type": "code",
   "execution_count": 2,
   "id": "0787a1bc",
   "metadata": {},
   "outputs": [],
   "source": [
    "import os\n",
    "api_key = os.getenv(\"OPENAI_API_KEY_V2\")"
   ]
  },
  {
   "cell_type": "code",
   "execution_count": 3,
   "id": "bf9a3d35-76d0-4689-a0e8-1dfc4646f91c",
   "metadata": {},
   "outputs": [],
   "source": [
    "from openai import OpenAI\n",
    "import os\n",
    "\n",
    "client = OpenAI(\n",
    "  base_url=\"https://openrouter.ai/api/v1\",\n",
    "  api_key=api_key\n",
    ")\n",
    "\n",
    "completion = client.chat.completions.create(\n",
    "  model=\"meta-llama/llama-3.3-8b-instruct:free\",\n",
    "  messages=[\n",
    "    {\n",
    "      \"role\": \"user\",\n",
    "      \"content\": \"What is the meaning of life?\"\n",
    "    }\n",
    "  ]\n",
    ")\n"
   ]
  },
  {
   "cell_type": "code",
   "execution_count": 4,
   "id": "9d2a422d",
   "metadata": {},
   "outputs": [
    {
     "name": "stdout",
     "output_type": "stream",
     "text": [
      "The question of the meaning of life is one of the most fundamental and enduring philosophical, theological, and existential questions humanity has ever posed. Different cultures, belief systems, philosophers, and individuals have offered a wide range of answers, perspectives, and interpretations. Here are some of the core ideas and philosophies:\n",
      "\n",
      "1. **Purpose and Meaning through Religion**: For many people, the meaning of life is derived from religious beliefs. It is about fulfilling one's duties as prescribed by a deity or set of beliefs, achieving spiritual enlightenment, or working towards salvation. The concept of hell, heaven, or other afterlives often plays a significant role in shaping one's life choices.\n",
      "\n",
      "2. **Existentialism**: Existentialist philosophers argue that life has no inherent meaning. Instead, they emphasize individual freedom and choice, suggesting that each person must create their own meaning in life. Existentialism focuses on the present moment, living authentically, and finding personal significance.\n",
      "\n",
      "3. **Hedonism and Utilitarianism**: From a more hedonistic or utilitarian perspective, the meaning of life could be maximizing pleasure, reducing suffering, or achieving the greatest happiness for the greatest number of people. These philosophies focus on the quality of life and the well-being of the individual and society.\n",
      "\n",
      "4. **Self-actualization**: According to Humanistic psychology, particularly through the work of Abraham Maslow, the meaning of life is found in self-actualization. This involves realizing one's full potential, pursuing personal growth, and finding authenticity and purpose.\n",
      "\n",
      "5. **Evolutionary Perspective**: From a biological standpoint, the meaning of life might be seen in the context of evolution. It's about survival, reproducing, and passing on genetic material to future generations. This perspective views life as a part of a larger cosmic process.\n",
      "\n",
      "6. ** Stoicism and Living in the Moment**: Stoic philosophy advocates for living in the present, focusing on what can be controlled, and accepting what cannot. The meaning of life, in this view, is to live in harmony with nature, to cultivate inner strength, and to find contentment.\n",
      "\n",
      "7. **Artistic and Creative Expression**: For many, the meaning of life is deeply connected to creating something meaningful, whether it be art, literature, music, or inventions. This perspective sees life as an opportunity to express one's unique perspective and contribute to the world in a lasting way.\n",
      "\n",
      "8. **Social and Community Involvement**: From a more altruistic or sociological viewpoint, the meaning of life can be found in relationships, community service, and contributing to the greater good. It's about leaving a positive impact on the world and the people in it.\n",
      "\n",
      "Ultimately, the meaning of life is highly subjective and can vary greatly from person to person. It can be a complex and multifaceted concept that evolves over time as individuals grow, learn, and face different challenges and opportunities.\n"
     ]
    }
   ],
   "source": [
    "print(completion.choices[0].message.content)\n"
   ]
  },
  {
   "cell_type": "code",
   "execution_count": 5,
   "id": "f7a8f0fd",
   "metadata": {},
   "outputs": [
    {
     "name": "stdout",
     "output_type": "stream",
     "text": [
      "It depends on the specific course and its policies. Here are some possible scenarios:\n",
      "\n",
      "1. **Check the course website or description**: Look for information on the course's enrollment period, deadline, or availability.\n",
      "2. **Contact the course instructor or administrator**: Reach out to them directly to ask about the current enrollment status and if it's still possible to join.\n",
      "3. **Check with the educational institution**: If the course is offered by a university, college, or online learning platform, contact their admissions or registrar office to inquire about enrollment options.\n",
      "4. **Consider late enrollment or exceptions**: Some courses may allow late enrollment or have exceptions for students who miss the initial deadline. Ask about these possibilities.\n",
      "\n",
      "If you're unsure, it's always better to ask! You can send a message or make a phone call to inquire about the current status and potential opportunities to join the course.\n"
     ]
    }
   ],
   "source": [
    "completion = client.chat.completions.create(\n",
    "  model=\"meta-llama/llama-3.3-8b-instruct:free\",\n",
    "  messages=[\n",
    "    {\n",
    "      \"role\": \"user\",\n",
    "      \"content\": \"Is it toolate to join the course?\"\n",
    "    }\n",
    "  ]\n",
    ")\n",
    "\n",
    "print(completion.choices[0].message.content)"
   ]
  },
  {
   "cell_type": "code",
   "execution_count": null,
   "id": "2911a270",
   "metadata": {},
   "outputs": [],
   "source": []
  }
 ],
 "metadata": {
  "kernelspec": {
   "display_name": "Python 3 (ipykernel)",
   "language": "python",
   "name": "python3"
  },
  "language_info": {
   "codemirror_mode": {
    "name": "ipython",
    "version": 3
   },
   "file_extension": ".py",
   "mimetype": "text/x-python",
   "name": "python",
   "nbconvert_exporter": "python",
   "pygments_lexer": "ipython3",
   "version": "3.12.1"
  }
 },
 "nbformat": 4,
 "nbformat_minor": 5
}
