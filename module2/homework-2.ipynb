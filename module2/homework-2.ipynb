{
 "cells": [
  {
   "cell_type": "code",
   "execution_count": 3,
   "id": "406b3f2d",
   "metadata": {},
   "outputs": [],
   "source": [
    "# !pip install fastembed"
   ]
  },
  {
   "cell_type": "markdown",
   "id": "74394b4f",
   "metadata": {},
   "source": [
    "## Q1. Embedding the query\n",
    "\n",
    "Embed the query: `'I just discovered the course. Can I join now?'`.\n",
    "Use the `'jinaai/jina-embeddings-v2-small-en'` model. \n",
    "\n",
    "You should get a numpy array of size 512.\n",
    "\n",
    "What's the minimal value in this array?\n"
   ]
  },
  {
   "cell_type": "code",
   "execution_count": 1,
   "id": "8d60026c",
   "metadata": {},
   "outputs": [
    {
     "name": "stderr",
     "output_type": "stream",
     "text": [
      "\u001b[32m2025-07-12 08:40:31.858\u001b[0m | \u001b[33m\u001b[1mWARNING \u001b[0m | \u001b[36mfastembed.embedding\u001b[0m:\u001b[36m<module>\u001b[0m:\u001b[36m7\u001b[0m - \u001b[33m\u001b[1mDefaultEmbedding, FlagEmbedding, JinaEmbedding are deprecated.Use from fastembed import TextEmbedding instead.\u001b[0m\n"
     ]
    },
    {
     "name": "stdout",
     "output_type": "stream",
     "text": [
      "Shape: 512\n",
      "Min value: -0.11726373885183883\n"
     ]
    }
   ],
   "source": [
    "from fastembed.embedding import DefaultEmbedding\n",
    "import numpy as np\n",
    "\n",
    "# Load model\n",
    "model = DefaultEmbedding(model_name=\"jinaai/jina-embeddings-v2-small-en\")\n",
    "\n",
    "# Embed query\n",
    "query = \"I just discovered the course. Can I join now?\"\n",
    "embedding = next(model.embed([query]))\n",
    "\n",
    "# Check the shape and min value\n",
    "print(\"Shape:\", len(embedding))  # Should be 512\n",
    "print(\"Min value:\", min(embedding))\n"
   ]
  },
  {
   "cell_type": "markdown",
   "id": "7665e2a7",
   "metadata": {},
   "source": [
    "## A1.\n",
    "\n",
    "The ninimal value is \"-0.11\"."
   ]
  },
  {
   "cell_type": "markdown",
   "id": "fe4401ea",
   "metadata": {},
   "source": [
    "## Q2. Cosine similarity with another vector\n",
    "\n",
    "Now let's embed this document:\n",
    "\n",
    "```python\n",
    "doc = 'Can I still join the course after the start date?'\n",
    "```\n",
    "\n",
    "What's the cosine similarity between the vector for the query\n",
    "and the vector for the document?"
   ]
  },
  {
   "cell_type": "code",
   "execution_count": 2,
   "id": "414b93b5",
   "metadata": {},
   "outputs": [
    {
     "name": "stdout",
     "output_type": "stream",
     "text": [
      "Cosine similarity: 0.9008528895674548\n"
     ]
    }
   ],
   "source": [
    "query_vec = np.array(embedding)\n",
    "doc_embedding = next(model.embed([\"Can I still join the course after the start date?\"]))\n",
    "doc_vec = np.array(doc_embedding)\n",
    "\n",
    "cos_sim = query_vec.dot(doc_vec)\n",
    "print(\"Cosine similarity:\", cos_sim)\n"
   ]
  },
  {
   "cell_type": "markdown",
   "id": "fc67c053",
   "metadata": {},
   "source": [
    "## A2.\n",
    "\n",
    "The cosine similarity is \"0.9\""
   ]
  },
  {
   "cell_type": "markdown",
   "id": "912c5ea9",
   "metadata": {},
   "source": [
    "## Q3. Ranking by cosine\n",
    "\n",
    "For Q3 and Q4 we will use these documents:"
   ]
  },
  {
   "cell_type": "code",
   "execution_count": 3,
   "id": "5ba3ac72",
   "metadata": {},
   "outputs": [],
   "source": [
    "documents = [{'text': \"Yes, even if you don't register, you're still eligible to submit the homeworks.\\nBe aware, however, that there will be deadlines for turning in the final projects. So don't leave everything for the last minute.\",\n",
    "  'section': 'General course-related questions',\n",
    "  'question': 'Course - Can I still join the course after the start date?',\n",
    "  'course': 'data-engineering-zoomcamp'},\n",
    " {'text': 'Yes, we will keep all the materials after the course finishes, so you can follow the course at your own pace after it finishes.\\nYou can also continue looking at the homeworks and continue preparing for the next cohort. I guess you can also start working on your final capstone project.',\n",
    "  'section': 'General course-related questions',\n",
    "  'question': 'Course - Can I follow the course after it finishes?',\n",
    "  'course': 'data-engineering-zoomcamp'},\n",
    " {'text': \"The purpose of this document is to capture frequently asked technical questions\\nThe exact day and hour of the course will be 15th Jan 2024 at 17h00. The course will start with the first  “Office Hours'' live.1\\nSubscribe to course public Google Calendar (it works from Desktop only).\\nRegister before the course starts using this link.\\nJoin the course Telegram channel with announcements.\\nDon’t forget to register in DataTalks.Club's Slack and join the channel.\",\n",
    "  'section': 'General course-related questions',\n",
    "  'question': 'Course - When will the course start?',\n",
    "  'course': 'data-engineering-zoomcamp'},\n",
    " {'text': 'You can start by installing and setting up all the dependencies and requirements:\\nGoogle cloud account\\nGoogle Cloud SDK\\nPython 3 (installed with Anaconda)\\nTerraform\\nGit\\nLook over the prerequisites and syllabus to see if you are comfortable with these subjects.',\n",
    "  'section': 'General course-related questions',\n",
    "  'question': 'Course - What can I do before the course starts?',\n",
    "  'course': 'data-engineering-zoomcamp'},\n",
    " {'text': 'Star the repo! Share it with friends if you find it useful ❣️\\nCreate a PR if you see you can improve the text or the structure of the repository.',\n",
    "  'section': 'General course-related questions',\n",
    "  'question': 'How can we contribute to the course?',\n",
    "  'course': 'data-engineering-zoomcamp'}]"
   ]
  },
  {
   "cell_type": "markdown",
   "id": "db44f419",
   "metadata": {},
   "source": [
    "Compute the embeddings for the text field, and compute the \n",
    "cosine between the query vector and all the documents.\n",
    "\n",
    "What's the document index with the highest similarity? (Indexing starts from 0):"
   ]
  },
  {
   "cell_type": "code",
   "execution_count": 4,
   "id": "71a207cd",
   "metadata": {},
   "outputs": [
    {
     "name": "stdout",
     "output_type": "stream",
     "text": [
      "Best match index: 1\n"
     ]
    }
   ],
   "source": [
    "doc_texts = [doc['text'] for doc in documents]\n",
    "doc_embeddings = list(model.embed(doc_texts))\n",
    "\n",
    "# Convert to matrix\n",
    "V = np.array(doc_embeddings)\n",
    "scores = V.dot(query_vec)\n",
    "\n",
    "# Find highest score index\n",
    "print(\"Best match index:\", np.argmax(scores))\n"
   ]
  },
  {
   "cell_type": "markdown",
   "id": "fe874225",
   "metadata": {},
   "source": [
    "## A3.\n",
    "\n",
    "The Doc index with highest similarity is \"1\"."
   ]
  },
  {
   "cell_type": "markdown",
   "id": "34262102",
   "metadata": {},
   "source": [
    "## Q4. Ranking by cosine, version two\n",
    "\n",
    "Now let's calculate a new field, which is a concatenation of\n",
    "`question` and `text`:\n",
    "\n",
    "```python\n",
    "full_text = doc['question'] + ' ' + doc['text']\n",
    "``` \n",
    "\n",
    "Embed this field and compute the cosine between it and the\n",
    "query vector. What's the highest scoring document?\n"
   ]
  },
  {
   "cell_type": "code",
   "execution_count": 5,
   "id": "06b21396",
   "metadata": {},
   "outputs": [
    {
     "name": "stdout",
     "output_type": "stream",
     "text": [
      "Best match index (Q4): 0\n"
     ]
    }
   ],
   "source": [
    "full_texts = [doc['question'] + ' ' + doc['text'] for doc in documents]\n",
    "full_embeddings = list(model.embed(full_texts))\n",
    "\n",
    "V2 = np.array(full_embeddings)\n",
    "scores2 = V2.dot(query_vec)\n",
    "\n",
    "print(\"Best match index (Q4):\", np.argmax(scores2))\n"
   ]
  },
  {
   "cell_type": "markdown",
   "id": "b36670a8",
   "metadata": {},
   "source": [
    "## A4.\n",
    "\n",
    "the highest scored doc is \"0\"."
   ]
  },
  {
   "cell_type": "markdown",
   "id": "5bc63ffa",
   "metadata": {},
   "source": [
    "## Q5. Selecting the embedding model\n",
    "\n",
    "Now let's select a smaller embedding model.\n",
    "What's the smallest dimensionality for models in fastembed?\n"
   ]
  },
  {
   "cell_type": "code",
   "execution_count": 6,
   "id": "3135e71d",
   "metadata": {},
   "outputs": [
    {
     "name": "stdout",
     "output_type": "stream",
     "text": [
      "384\n"
     ]
    }
   ],
   "source": [
    "model2 = DefaultEmbedding(model_name=\"BAAI/bge-small-en\")\n",
    "embedding2 = next(model2.embed([\"test\"]))\n",
    "print(len(embedding2))  # Shows the dimensionality\n"
   ]
  },
  {
   "cell_type": "markdown",
   "id": "1f61c2ae",
   "metadata": {},
   "source": [
    "## A5.\n",
    "\n",
    "The dim for the \"BAAI/bge-small-en\" model is 384."
   ]
  },
  {
   "cell_type": "markdown",
   "id": "55c0f5b5",
   "metadata": {},
   "source": [
    "## Q6. Indexing with qdrant (2 points)\n",
    "\n",
    "For the last question, we will use more documents.\n",
    "\n",
    "We will select only FAQ records from our ml zoomcamp:\n",
    "\n",
    "```python\n",
    "import requests \n",
    "\n",
    "docs_url = 'https://github.com/alexeygrigorev/llm-rag-workshop/raw/main/notebooks/documents.json'\n",
    "docs_response = requests.get(docs_url)\n",
    "documents_raw = docs_response.json()\n",
    "\n",
    "\n",
    "documents = []\n",
    "\n",
    "for course in documents_raw:\n",
    "    course_name = course['course']\n",
    "    if course_name != 'machine-learning-zoomcamp':\n",
    "        continue\n",
    "\n",
    "    for doc in course['documents']:\n",
    "        doc['course'] = course_name\n",
    "        documents.append(doc)\n",
    "```\n",
    "\n",
    "Add them to qdrant using the model form Q5.\n",
    "\n",
    "When adding the data, use both question and answer fields:\n",
    "\n",
    "```python\n",
    "text = doc['question'] + ' ' + doc['text']\n",
    "```\n",
    "\n",
    "After the data is inserted, use the question from Q1 for querying the collection.\n",
    "\n",
    "What's the highest score in the results?\n",
    "(The score for the first returned record):"
   ]
  },
  {
   "cell_type": "code",
   "execution_count": 7,
   "id": "808d57bc",
   "metadata": {},
   "outputs": [],
   "source": [
    "# !pip install qdrant-client\n"
   ]
  },
  {
   "cell_type": "code",
   "execution_count": 4,
   "id": "fc2a6db9",
   "metadata": {},
   "outputs": [
    {
     "name": "stderr",
     "output_type": "stream",
     "text": [
      "/Users/aidenerdogan/.pyenv/versions/3.11.12/lib/python3.11/site-packages/tqdm/auto.py:21: TqdmWarning: IProgress not found. Please update jupyter and ipywidgets. See https://ipywidgets.readthedocs.io/en/stable/user_install.html\n",
      "  from .autonotebook import tqdm as notebook_tqdm\n",
      "\u001b[32m2025-07-12 10:52:10.616\u001b[0m | \u001b[33m\u001b[1mWARNING \u001b[0m | \u001b[36mfastembed.embedding\u001b[0m:\u001b[36m<module>\u001b[0m:\u001b[36m7\u001b[0m - \u001b[33m\u001b[1mDefaultEmbedding, FlagEmbedding, JinaEmbedding are deprecated.Use from fastembed import TextEmbedding instead.\u001b[0m\n",
      "Fetching 5 files: 100%|██████████| 5/5 [00:04<00:00,  1.10it/s]\n"
     ]
    }
   ],
   "source": [
    "from fastembed.embedding import DefaultEmbedding\n",
    "\n",
    "model2 = DefaultEmbedding(model_name=\"BAAI/bge-small-en\")\n"
   ]
  },
  {
   "cell_type": "code",
   "execution_count": 7,
   "id": "1d117c45",
   "metadata": {},
   "outputs": [],
   "source": [
    "# !pip install qdrant-client"
   ]
  },
  {
   "cell_type": "code",
   "execution_count": null,
   "id": "5e4b5a74",
   "metadata": {},
   "outputs": [
    {
     "name": "stderr",
     "output_type": "stream",
     "text": [
      "/var/folders/h2/nzdrmmqs66x13b1h4f0882fh0000gn/T/ipykernel_91584/2922323109.py:25: DeprecationWarning: `recreate_collection` method is deprecated and will be removed in the future. Use `collection_exists` to check collection existence and `create_collection` instead.\n",
      "  client.recreate_collection(\n"
     ]
    },
    {
     "name": "stdout",
     "output_type": "stream",
     "text": [
      "Top result score: 0.8703173\n"
     ]
    },
    {
     "name": "stderr",
     "output_type": "stream",
     "text": [
      "/var/folders/h2/nzdrmmqs66x13b1h4f0882fh0000gn/T/ipykernel_91584/2922323109.py:40: DeprecationWarning: `search` method is deprecated and will be removed in the future. Use `query_points` instead.\n",
      "  search_result = client.search(collection_name=\"ml_faq\", query_vector=query_vec, limit=1)\n"
     ]
    }
   ],
   "source": [
    "from qdrant_client import QdrantClient\n",
    "from qdrant_client.http.models import VectorParams, Distance, PointStruct\n",
    "import uuid\n",
    "import requests\n",
    "\n",
    "# Get documents\n",
    "docs_url = 'https://github.com/alexeygrigorev/llm-rag-workshop/raw/main/notebooks/documents.json'\n",
    "documents_raw = requests.get(docs_url).json()\n",
    "\n",
    "# Filter & prepare\n",
    "documents = []\n",
    "for course in documents_raw:\n",
    "    if course['course'] != 'machine-learning-zoomcamp':\n",
    "        continue\n",
    "    for doc in course['documents']:\n",
    "        doc['course'] = course['course']\n",
    "        documents.append(doc)\n",
    "\n",
    "# Create texts to embed\n",
    "texts = [doc['question'] + ' ' + doc['text'] for doc in documents]\n",
    "embeddings = list(model2.embed(texts))\n",
    "\n",
    "# Connect to Qdrant\n",
    "client = QdrantClient(host=\"localhost\", port=6333) # for memory limits I have installed qdrant in docker on my local machine\n",
    "client.recreate_collection(\n",
    "    collection_name=\"ml_faq\",\n",
    "    vectors_config=VectorParams(size=len(embeddings[0]), distance=Distance.COSINE),\n",
    ")\n",
    "\n",
    "# Insert into Qdrant\n",
    "points = [\n",
    "    PointStruct(id=i, vector=embeddings[i], payload=documents[i])\n",
    "    for i in range(len(embeddings))\n",
    "]\n",
    "client.upsert(collection_name=\"ml_faq\", points=points)\n",
    "\n",
    "# Query with Q1 question\n",
    "query_vec = next(model2.embed([\"I just discovered the course. Can I join now?\"]))\n",
    "\n",
    "search_result = client.search(collection_name=\"ml_faq\", query_vector=query_vec, limit=1)\n",
    "print(\"Top result score:\", search_result[0].score)\n"
   ]
  },
  {
   "cell_type": "markdown",
   "id": "dfe22b72",
   "metadata": {},
   "source": [
    "## A6.\n",
    "\n",
    "The highest result is \"0.87\""
   ]
  },
  {
   "cell_type": "code",
   "execution_count": null,
   "id": "c5d47331",
   "metadata": {},
   "outputs": [],
   "source": []
  }
 ],
 "metadata": {
  "kernelspec": {
   "display_name": "base",
   "language": "python",
   "name": "python3"
  },
  "language_info": {
   "codemirror_mode": {
    "name": "ipython",
    "version": 3
   },
   "file_extension": ".py",
   "mimetype": "text/x-python",
   "name": "python",
   "nbconvert_exporter": "python",
   "pygments_lexer": "ipython3",
   "version": "3.13.2"
  }
 },
 "nbformat": 4,
 "nbformat_minor": 5
}
